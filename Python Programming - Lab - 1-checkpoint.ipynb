{
 "cells": [
  {
   "cell_type": "markdown",
   "metadata": {},
   "source": [
    "<a href='https://www.darshan.ac.in/'> <img src='https://www.darshan.ac.in/Content/media/DU_Logo.svg' width=\"250\" height=\"300\"/></a>\n",
    "<pre>\n",
    "<center><b><h1>Python Programming - 2101CS405</b></center>\n",
    "<center><b><h1>Lab - 1</b></center>    \n",
    "<pre>"
   ]
  },
  {
   "cell_type": "markdown",
   "metadata": {},
   "source": [
    "### 01) WAP to print “Hello World”"
   ]
  },
  {
   "cell_type": "code",
   "execution_count": 1,
   "metadata": {},
   "outputs": [
    {
     "name": "stdout",
     "output_type": "stream",
     "text": [
      "Hello World\n"
     ]
    }
   ],
   "source": [
    "print(\"Hello World\")"
   ]
  },
  {
   "cell_type": "markdown",
   "metadata": {},
   "source": [
    "### 02) WAP to print your address i) using single print ii) using multiple print"
   ]
  },
  {
   "cell_type": "code",
   "execution_count": 3,
   "metadata": {},
   "outputs": [
    {
     "name": "stdout",
     "output_type": "stream",
     "text": [
      "Address :gurukrupa society street NO.2 haridhava 80 feet road rajkot\n",
      "Happy\n",
      "gurukrupa society\n",
      "street NO.2 haridhava 80 feet road\n",
      "rajkot\n"
     ]
    }
   ],
   "source": [
    "print(\"Address :gurukrupa society street NO.2 haridhava 80 feet road rajkot\")\n",
    "print(\"Happy\")\n",
    "print(\"gurukrupa society\")\n",
    "print(\"street NO.2 haridhava 80 feet road\")\n",
    "print(\"rajkot\")"
   ]
  },
  {
   "cell_type": "markdown",
   "metadata": {},
   "source": [
    "### 03) WAP to print addition of 2 numbers (without input function)"
   ]
  },
  {
   "cell_type": "code",
   "execution_count": 7,
   "metadata": {},
   "outputs": [
    {
     "name": "stdout",
     "output_type": "stream",
     "text": [
      "143\n"
     ]
    }
   ],
   "source": [
    "a = 90\n",
    "b = 53\n",
    "print(a+b)"
   ]
  },
  {
   "cell_type": "markdown",
   "metadata": {},
   "source": [
    "### 04) WAP to calculate and print average of 2 numbers (without input function)"
   ]
  },
  {
   "cell_type": "code",
   "execution_count": 8,
   "metadata": {
    "scrolled": true
   },
   "outputs": [
    {
     "name": "stdout",
     "output_type": "stream",
     "text": [
      "60.0\n"
     ]
    }
   ],
   "source": [
    "a = 80\n",
    "b = 40\n",
    "print((a+b)/2)"
   ]
  },
  {
   "cell_type": "markdown",
   "metadata": {},
   "source": [
    "### 05) WAP to add two number entered by user."
   ]
  },
  {
   "cell_type": "code",
   "execution_count": 41,
   "metadata": {},
   "outputs": [
    {
     "name": "stdout",
     "output_type": "stream",
     "text": [
      "enter your First number : 90\n",
      "enter your Second number : 53\n",
      "your output is :  143\n"
     ]
    }
   ],
   "source": [
    "num1 = int(input((\"enter your First number : \")))\n",
    "num2 = int(input((\"enter your Second number : \")))\n",
    "\n",
    "print(\"your output is : \",num1+num2)"
   ]
  },
  {
   "cell_type": "markdown",
   "metadata": {},
   "source": [
    "### 06) WAP to calculate simple interest."
   ]
  },
  {
   "cell_type": "code",
   "execution_count": 44,
   "metadata": {},
   "outputs": [
    {
     "name": "stdout",
     "output_type": "stream",
     "text": [
      "enter your P number : 25000\n",
      "enter your R number : 10\n",
      "enter your T number : 1\n",
      "your simple interese is :  2500.0\n"
     ]
    }
   ],
   "source": [
    "P = int(input(\"enter your P number : \"))\n",
    "R = int(input(\"enter your R number : \"))\n",
    "T = int(input(\"enter your T number : \"))\n",
    "print(\"your simple interese is : \",(P*R*T)/100)\n"
   ]
  },
  {
   "cell_type": "markdown",
   "metadata": {},
   "source": [
    "### 07) WAP Calculate Area and Circumfrence of Circle"
   ]
  },
  {
   "cell_type": "code",
   "execution_count": 53,
   "metadata": {},
   "outputs": [
    {
     "name": "stdout",
     "output_type": "stream",
     "text": [
      "enter redius: 23\n",
      "your answer is :  1661.06\n"
     ]
    }
   ],
   "source": [
    "pie = 3.14\n",
    "r = int(input(\"enter redius: \"))\n",
    "ans = pie*r*r\n",
    "print(\"your answer is : \",ans)"
   ]
  },
  {
   "cell_type": "markdown",
   "metadata": {},
   "source": [
    "### 08) WAP to print Multiplication table of given number without using loops."
   ]
  },
  {
   "cell_type": "code",
   "execution_count": 20,
   "metadata": {},
   "outputs": [
    {
     "name": "stdout",
     "output_type": "stream",
     "text": [
      "enter number143\n",
      "143 * 1 = 143\n",
      "143 * 2 = 286\n",
      "143 * 3 = 429\n",
      "143 * 4 = 572\n",
      "143 * 5 = 715\n",
      "143 * 6 = 858\n",
      "143 * 7 = 1001\n",
      "143 * 8 = 1144\n",
      "143 * 9 = 1287\n",
      "143 * 10 = 1430\n"
     ]
    }
   ],
   "source": [
    "num = int(input(\"enter number\"))\n",
    "print(num,\"* 1 =\",num*1)\n",
    "print(num,\"* 2 =\",num*2)\n",
    "print(num,\"* 3 =\",num*3)\n",
    "print(num,\"* 4 =\",num*4)\n",
    "print(num,\"* 5 =\",num*5)\n",
    "print(num,\"* 6 =\",num*6)\n",
    "print(num,\"* 7 =\",num*7)\n",
    "print(num,\"* 8 =\",num*8)\n",
    "print(num,\"* 9 =\",num*9)\n",
    "print(num,\"* 10 =\",num*10)"
   ]
  },
  {
   "cell_type": "markdown",
   "metadata": {},
   "source": [
    "### 09) WAP to calculate Area of Triangle (hint: a = h * b * 0.5)"
   ]
  },
  {
   "cell_type": "code",
   "execution_count": 52,
   "metadata": {},
   "outputs": [
    {
     "name": "stdout",
     "output_type": "stream",
     "text": [
      "enter your base : 12\n",
      "enter your height : 10\n",
      "your output is :  60.0\n"
     ]
    }
   ],
   "source": [
    "base = int(input(\"enter your base : \"))\n",
    "height = int(input(\"enter your height : \"))\n",
    "\n",
    "print(\"your output is : \",base*height*0.5)\n"
   ]
  },
  {
   "cell_type": "markdown",
   "metadata": {},
   "source": [
    "### 10) WAP to convert degree to Fahrenheit and vice versa."
   ]
  },
  {
   "cell_type": "code",
   "execution_count": 56,
   "metadata": {},
   "outputs": [
    {
     "name": "stdout",
     "output_type": "stream",
     "text": [
      "enter your degree : 0\n",
      "your Fahrenheit is :  32.0\n",
      "========== vice versa ==========\n",
      "enter your Fahrenheit : 32\n",
      "your degree is :  0.0\n"
     ]
    }
   ],
   "source": [
    "degree = int(input(\"enter your degree : \" ))\n",
    "\n",
    "ans = (degree)*1.8+32\n",
    "print(\"your Fahrenheit is : \",ans)\n",
    "\n",
    "print(\"========== vice versa ==========\")\n",
    "\n",
    "Fahrenheit = int(input(\"enter your Fahrenheit : \"))\n",
    "ans = (Fahrenheit-32)*1.8\n",
    "print(\"your degree is : \",ans)\n"
   ]
  },
  {
   "cell_type": "markdown",
   "metadata": {},
   "source": [
    "### 11) WAP to calculate total marks and Percentage."
   ]
  },
  {
   "cell_type": "code",
   "execution_count": 60,
   "metadata": {},
   "outputs": [
    {
     "name": "stdout",
     "output_type": "stream",
     "text": [
      "enter your english mark : 91\n",
      "enter your maths mark : 92\n",
      "enter your python mark : 93\n",
      "enter your flutter mark : 94\n",
      "enter your sunskrit : 95\n",
      "your total marks is :  465\n",
      "your Percentage is :  93.0\n"
     ]
    }
   ],
   "source": [
    "english = int(input(\"enter your english mark : \"))\n",
    "maths = int(input(\"enter your maths mark : \"))\n",
    "python = int(input(\"enter your python mark : \"))\n",
    "flutter = int(input(\"enter your flutter mark : \"))\n",
    "sunskrit = int(input(\"enter your sunskrit : \"))\n",
    "print(\"your total marks is : \",english+maths+python+flutter+sunskrit)\n",
    "print(\"your Percentage is : \",(english+maths+python+flutter+sunskrit)/5)"
   ]
  },
  {
   "cell_type": "markdown",
   "metadata": {},
   "source": [
    "### 12) Compute distance between two points taking input from the user (Pythagorean Theorem)."
   ]
  },
  {
   "cell_type": "code",
   "execution_count": 11,
   "metadata": {},
   "outputs": [
    {
     "name": "stdout",
     "output_type": "stream",
     "text": [
      "Enter x1 :10\n",
      "Enter y1 :11\n",
      "Enter x2 :12\n",
      "Enter y2 :13\n",
      "Distance between two points: 2.8284271247461903\n"
     ]
    }
   ],
   "source": [
    "x1=int(input(\"Enter x1 :\"))\n",
    "\n",
    "y1=int(input(\"Enter y1 :\"))\n",
    "x2=int(input(\"Enter x2 :\"))\n",
    "y2=int(input(\"Enter y2 :\"))\n",
    "Distance = (((x2 - x1) * (x2 - x1)) + ((y2 - y1) * (y2 - y1)))**0.5\n",
    "print(\"Distance between two points:\",Distance)"
   ]
  },
  {
   "cell_type": "markdown",
   "metadata": {},
   "source": [
    "### 13) WAP to convert seconds into hours, minutes & seconds and print in HH:MM:SS\n",
    "[e.g. 10000 seconds mean 2:46:40 (2 Hours, 46 Minutes, 40Seconds)]"
   ]
  },
  {
   "cell_type": "code",
   "execution_count": 27,
   "metadata": {},
   "outputs": [
    {
     "name": "stdout",
     "output_type": "stream",
     "text": [
      "enter secoends: 20000\n",
      "your hour : 5\n",
      "your minutes : 33\n",
      "your secoend : 20\n"
     ]
    }
   ],
   "source": [
    "secoend = int(input(\"enter secoends: \"))\n",
    "hours = int((secoend/3600))\n",
    "minutes = int((secoend%3600)/60)\n",
    "sec = int((secoend%3600)%60)\n",
    "print(\"your hour :\",hours)\n",
    "print(\"your minutes :\",minutes)\n",
    "print(\"your secoend :\",sec)"
   ]
  },
  {
   "cell_type": "markdown",
   "metadata": {},
   "source": [
    "### 14) WAP to enter distance into kilometer and convert it into meter, feet,inches, and centimeter"
   ]
  },
  {
   "cell_type": "code",
   "execution_count": 28,
   "metadata": {},
   "outputs": [
    {
     "name": "stdout",
     "output_type": "stream",
     "text": [
      "enter kilometer: 1\n",
      "meter : 1000\n",
      "feet : 3280.84\n",
      "inch : 39370.1\n",
      "cm : 10000\n"
     ]
    }
   ],
   "source": [
    "kilometer = int(input(\"enter kilometer: \"))\n",
    "meter = kilometer*1000\n",
    "feet = kilometer*3280.84\n",
    "inch = kilometer*39370.1\n",
    "cm = kilometer*10000\n",
    "print(\"meter :\",meter)\n",
    "print(\"feet :\",feet)\n",
    "print(\"inch :\",inch)\n",
    "print(\"cm :\",cm)"
   ]
  },
  {
   "cell_type": "code",
   "execution_count": null,
   "metadata": {},
   "outputs": [],
   "source": []
  }
 ],
 "metadata": {
  "kernelspec": {
   "display_name": "Python 3 (ipykernel)",
   "language": "python",
   "name": "python3"
  },
  "language_info": {
   "codemirror_mode": {
    "name": "ipython",
    "version": 3
   },
   "file_extension": ".py",
   "mimetype": "text/x-python",
   "name": "python",
   "nbconvert_exporter": "python",
   "pygments_lexer": "ipython3",
   "version": "3.9.13"
  }
 },
 "nbformat": 4,
 "nbformat_minor": 4
}
