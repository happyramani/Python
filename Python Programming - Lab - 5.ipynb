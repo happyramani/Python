{
 "cells": [
  {
   "cell_type": "markdown",
   "metadata": {},
   "source": [
    "\n",
    "<a href='https://www.darshan.ac.in/'> <img src='https://www.darshan.ac.in/Content/media/DU_Logo.svg' width=\"250\" height=\"300\"/></a>\n",
    "<pre>\n",
    "<center><b><h1>Python Programming - 2101CS405</b></center>\n",
    "<center><b><h1>Lab - 5</b></center>    \n",
    "<pre>"
   ]
  },
  {
   "cell_type": "markdown",
   "metadata": {},
   "source": [
    "# list"
   ]
  },
  {
   "cell_type": "markdown",
   "metadata": {},
   "source": [
    "### 01) WAP to find sum of all the elements in List."
   ]
  },
  {
   "cell_type": "code",
   "execution_count": 2,
   "metadata": {},
   "outputs": [
    {
     "name": "stdout",
     "output_type": "stream",
     "text": [
      "enter length of list =>5\n",
      "enter element =>1\n",
      "enter element =>2\n",
      "enter element =>3\n",
      "enter element =>4\n",
      "enter element =>5\n",
      "your list is =>[1, 2, 3, 4, 5]\n",
      "sum of all element in list is =>15\n"
     ]
    }
   ],
   "source": [
    "list=[]\n",
    "sum=0\n",
    "n=int(input(\"enter length of list =>\"))\n",
    "for i in range(0,n):\n",
    "    a=int(input(\"enter element =>\"))\n",
    "    list.append(a)\n",
    "print(\"your list is =>{}\".format(list))    \n",
    "for i in range(0,n):\n",
    "    sum=sum+list[i]\n",
    "print(\"sum of all element in list is =>{}\".format(sum))"
   ]
  },
  {
   "cell_type": "markdown",
   "metadata": {},
   "source": [
    "### 02) WAP to find largest element in a List."
   ]
  },
  {
   "cell_type": "code",
   "execution_count": 3,
   "metadata": {},
   "outputs": [
    {
     "name": "stdout",
     "output_type": "stream",
     "text": [
      "enter length of list =>5\n",
      "enter element =>1\n",
      "enter element =>2\n",
      "enter element =>3\n",
      "enter element =>4\n",
      "enter element =>5\n",
      "your list is =>[1, 2, 3, 4, 5]\n",
      "maximum number from list is=>5\n"
     ]
    }
   ],
   "source": [
    "list=[]\n",
    "n=int(input(\"enter length of list =>\"))\n",
    "for i in range(0,n):\n",
    "    a=int(input(\"enter element =>\"))\n",
    "    list.append(a)\n",
    "print(\"your list is =>{}\".format(list))   \n",
    "print(\"maximum number from list is=>{}\".format(max(list)))"
   ]
  },
  {
   "cell_type": "markdown",
   "metadata": {},
   "source": [
    "### 03) WAP to split the List into two and append the first part to the end."
   ]
  },
  {
   "cell_type": "code",
   "execution_count": 5,
   "metadata": {},
   "outputs": [
    {
     "name": "stdout",
     "output_type": "stream",
     "text": [
      "enter length of list =>5\n",
      "enter element =>1\n",
      "enter element =>2\n",
      "enter element =>3\n",
      "enter element =>4\n",
      "enter element =>5\n",
      "your list is =>[1, 2, 3, 4, 5]\n",
      "enter how many element did you like to split form first to end 3\n",
      "your list after split is =>[2, 3, 4, 5, 1]\n",
      "your list after split is =>[3, 4, 5, 1, 2]\n",
      "your list after split is =>[4, 5, 1, 2, 3]\n"
     ]
    }
   ],
   "source": [
    "list=[]\n",
    "n=int(input(\"enter length of list =>\"))\n",
    "for i in range(0,n):\n",
    "    a=int(input(\"enter element =>\"))\n",
    "    list.append(a)\n",
    "print(\"your list is =>{}\".format(list))   \n",
    "a=int(input(\"enter how many element did you like to split form first to end \"))\n",
    "for i in range(0,a):\n",
    "    temp=list[0]\n",
    "    for j in range(0,n-1):\n",
    "        list[j]=list[j+1]\n",
    "    list[n-1]=temp\n",
    "    print(\"your list after split is =>{}\".format(list))"
   ]
  },
  {
   "cell_type": "markdown",
   "metadata": {},
   "source": [
    "### 04) WAP to interchange first and last elements in list entered by a user."
   ]
  },
  {
   "cell_type": "code",
   "execution_count": 6,
   "metadata": {},
   "outputs": [
    {
     "name": "stdout",
     "output_type": "stream",
     "text": [
      "enter length of list =>5\n",
      "enter element =>1\n",
      "enter element =>2\n",
      "enter element =>3\n",
      "enter element =>4\n",
      "enter element =>5\n",
      "your list is =>[1, 2, 3, 4, 5]\n",
      "interchange first and last elements in list is =>[5, 2, 3, 4, 1]\n"
     ]
    }
   ],
   "source": [
    "list=[]\n",
    "n=int(input(\"enter length of list =>\"))\n",
    "for i in range(0,n):\n",
    "    a=int(input(\"enter element =>\"))\n",
    "    list.append(a)\n",
    "print(\"your list is =>{}\".format(list))  \n",
    "\n",
    "temp=list[0]\n",
    "list[0]=list[n-1]\n",
    "list[n-1]=temp\n",
    "\n",
    "\n",
    "print(\"interchange first and last elements in list is =>{}\".format(list))"
   ]
  },
  {
   "cell_type": "markdown",
   "metadata": {},
   "source": [
    "### 05) WAP to interchange the elements on two positions entered by a user."
   ]
  },
  {
   "cell_type": "code",
   "execution_count": 17,
   "metadata": {},
   "outputs": [
    {
     "name": "stdout",
     "output_type": "stream",
     "text": [
      "Enter number of element of list : 5\n",
      "Enter element : 1\n",
      "Enter element : 2\n",
      "Enter element : 3\n",
      "Enter element : 4\n",
      "Enter element : 5\n",
      "Enter 1st position : 0\n",
      "Enter 2nd position : 4\n"
     ]
    },
    {
     "data": {
      "text/plain": [
       "[5, 2, 3, 4, 1]"
      ]
     },
     "execution_count": 17,
     "metadata": {},
     "output_type": "execute_result"
    }
   ],
   "source": [
    "n = int(input(\"Enter number of element of list : \"))\n",
    "li = []\n",
    "for i in range(n):\n",
    "    x = int(input(\"Enter element : \"))\n",
    "    li.append(x)\n",
    "p1 = int(input(\"Enter 1st position : \"))\n",
    "p2 = int(input(\"Enter 2nd position : \"))\n",
    "temp=li[p1]\n",
    "li[p1]=li[p2]\n",
    "li[p2]=temp\n",
    "li"
   ]
  },
  {
   "cell_type": "markdown",
   "metadata": {},
   "source": [
    "### 06) WAP to reverses the list entered by user."
   ]
  },
  {
   "cell_type": "code",
   "execution_count": 15,
   "metadata": {},
   "outputs": [
    {
     "name": "stdout",
     "output_type": "stream",
     "text": [
      "Enter number of element of list : 5\n",
      "Enter element : 1\n",
      "Enter element : 2\n",
      "Enter element : 3\n",
      "Enter element : 4\n",
      "Enter element : 5\n",
      "[5, 4, 3, 2, 1]\n"
     ]
    }
   ],
   "source": [
    "n = int(input(\"Enter number of element of list : \"))\n",
    "li = []\n",
    "for i in range(n):\n",
    "    x = int(input(\"Enter element : \"))\n",
    "    li.append(x)\n",
    "li.reverse()\n",
    "print(li)"
   ]
  },
  {
   "cell_type": "markdown",
   "metadata": {},
   "source": [
    "### 07) Python program to remove multiple elements from a list using list comprehension"
   ]
  },
  {
   "cell_type": "code",
   "execution_count": 9,
   "metadata": {},
   "outputs": [
    {
     "name": "stdout",
     "output_type": "stream",
     "text": [
      "enter length of list =>5\n",
      "enter element =>1\n",
      "enter element =>2\n",
      "enter element =>3\n",
      "enter element =>4\n",
      "enter element =>5\n",
      "your list is =>[1, 2, 3, 4, 5]\n",
      "enter how many element did you like to delete =>3\n",
      "enter one element to remove1\n",
      "your list after delete element is  =>[2, 3, 4, 5]\n",
      "enter one element to remove2\n",
      "your list after delete element is  =>[3, 4, 5]\n",
      "enter one element to remove3\n",
      "your list after delete element is  =>[4, 5]\n"
     ]
    }
   ],
   "source": [
    "list=[]\n",
    "n=int(input(\"enter length of list =>\"))\n",
    "for i in range(0,n):\n",
    "    a=int(input(\"enter element =>\"))\n",
    "    list.append(a)\n",
    "print(\"your list is =>{}\".format(list))\n",
    "\n",
    "c=int(input(\"enter how many element did you like to delete =>\"))\n",
    "for i in range(0,c):\n",
    "    a=int(input(\"enter one element to remove\"))\n",
    "    for j in list:\n",
    "        if j==a:\n",
    "            list.remove(j)\n",
    "            print(\"your list after delete element is  =>{}\".format(list))"
   ]
  },
  {
   "cell_type": "markdown",
   "metadata": {},
   "source": [
    "### 08) Create a list from the specified start to end index of another list."
   ]
  },
  {
   "cell_type": "code",
   "execution_count": 14,
   "metadata": {},
   "outputs": [
    {
     "name": "stdout",
     "output_type": "stream",
     "text": [
      "Enter number of element of list : 5\n",
      "Enter element : 1\n",
      "Enter element : 2\n",
      "Enter element : 3\n",
      "Enter element : 4\n",
      "Enter element : 5\n",
      "Enter starting index : 3\n",
      "Enter ending index : 5\n"
     ]
    },
    {
     "data": {
      "text/plain": [
       "[4, 5]"
      ]
     },
     "execution_count": 14,
     "metadata": {},
     "output_type": "execute_result"
    }
   ],
   "source": [
    "n = int(input(\"Enter number of element of list : \"))\n",
    "li = []\n",
    "for i in range(n):\n",
    "    x = int(input(\"Enter element : \"))\n",
    "    li.append(x)\n",
    "start = int(input(\"Enter starting index : \"))\n",
    "end = int(input(\"Enter ending index : \"))\n",
    "\n",
    "newlist = li[start:end+1]\n",
    "newlist"
   ]
  },
  {
   "cell_type": "markdown",
   "metadata": {},
   "source": [
    "### 09) Input comma separated elements, convert into list and print."
   ]
  },
  {
   "cell_type": "code",
   "execution_count": 10,
   "metadata": {},
   "outputs": [
    {
     "name": "stdout",
     "output_type": "stream",
     "text": [
      "Enter comma separated elements : abc,xyz\n"
     ]
    },
    {
     "data": {
      "text/plain": [
       "['abc', 'xyz']"
      ]
     },
     "execution_count": 10,
     "metadata": {},
     "output_type": "execute_result"
    }
   ],
   "source": [
    "str = input(\"Enter comma separated elements : \")\n",
    "li = str.split(\",\")\n",
    "li"
   ]
  },
  {
   "cell_type": "markdown",
   "metadata": {},
   "source": [
    "### 01) WAP to count Even and Odd numbers in a List."
   ]
  },
  {
   "cell_type": "code",
   "execution_count": 13,
   "metadata": {},
   "outputs": [
    {
     "name": "stdout",
     "output_type": "stream",
     "text": [
      "Enter number of element of list : 6\n",
      "Enter element : 10\n",
      "Enter element : 11\n",
      "Enter element : 12\n",
      "Enter element : 13\n",
      "Enter element : 14\n",
      "Enter element : 15\n",
      "Count of Odd numbers is : 3\n",
      "Count of Even numbers is: 3\n"
     ]
    }
   ],
   "source": [
    "n = int(input(\"Enter number of element of list : \"))\n",
    "li,oddcounter,evencounter = [],0,0\n",
    "for i in range(n):\n",
    "    x = int(input(\"Enter element : \"))\n",
    "    li.append(x)\n",
    "for i in li:\n",
    "    if i%2==0:\n",
    "        evencounter+=1\n",
    "    else:\n",
    "        oddcounter+=1\n",
    "print(f\"Count of Odd numbers is : {oddcounter}\")\n",
    "print(f\"Count of Even numbers is: {evencounter}\")"
   ]
  },
  {
   "cell_type": "markdown",
   "metadata": {},
   "source": [
    "### 02) Python program to find N largest and smallest elements from the list"
   ]
  },
  {
   "cell_type": "code",
   "execution_count": null,
   "metadata": {},
   "outputs": [],
   "source": [
    "\n",
    "list=[]\n",
    "n=int(input(\"enter length of list =>\"))\n",
    "for i in range(0,n):\n",
    "    a=int(input(\"enter element =>\"))\n",
    "    list.append(a)\n",
    "print(\"your list is =>{}\".format(list)) \n",
    "\n",
    "p=int(input(\"enter how many largest and smallest elements you need\"))\n",
    "list.sort()\n",
    "larg=list[::-1]\n",
    "print(\"smallest elemets are =>\",list[0:p])\n",
    "print(\"largest elemets are =>\",larg[0:p])"
   ]
  },
  {
   "cell_type": "markdown",
   "metadata": {},
   "source": [
    "### 03) WAP to print duplicates from a list of integers"
   ]
  },
  {
   "cell_type": "code",
   "execution_count": 7,
   "metadata": {},
   "outputs": [
    {
     "name": "stdout",
     "output_type": "stream",
     "text": [
      "enter length of list =>5\n",
      "enter element =>1\n",
      "enter element =>1\n",
      "enter element =>2\n",
      "enter element =>2\n",
      "enter element =>3\n",
      "your list is =>[1, 1, 2, 2, 3]\n",
      "duplicates are =>[1, 2]\n"
     ]
    }
   ],
   "source": [
    "list=[]\n",
    "n=int(input(\"enter length of list =>\"))\n",
    "for i in range(0,n):\n",
    "    a=int(input(\"enter element =>\"))\n",
    "    list.append(a)\n",
    "print(\"your list is =>{}\".format(list))\n",
    "list.sort()\n",
    "\n",
    "duplicate=[]\n",
    "for i in range(0,n):\n",
    "    for j in range(i+1,n):\n",
    "        if list[i]==list[j] and list[i] not in duplicate:\n",
    "            duplicate.append(list[i])\n",
    "print(\"duplicates are =>{}\".format(duplicate))"
   ]
  }
 ],
 "metadata": {
  "kernelspec": {
   "display_name": "Python 3 (ipykernel)",
   "language": "python",
   "name": "python3"
  },
  "language_info": {
   "codemirror_mode": {
    "name": "ipython",
    "version": 3
   },
   "file_extension": ".py",
   "mimetype": "text/x-python",
   "name": "python",
   "nbconvert_exporter": "python",
   "pygments_lexer": "ipython3",
   "version": "3.9.13"
  }
 },
 "nbformat": 4,
 "nbformat_minor": 4
}
