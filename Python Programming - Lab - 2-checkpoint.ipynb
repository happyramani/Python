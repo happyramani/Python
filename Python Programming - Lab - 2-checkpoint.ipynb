{
 "cells": [
  {
   "cell_type": "markdown",
   "metadata": {},
   "source": [
    "\n",
    "<a href='https://www.darshan.ac.in/'> <img src='https://www.darshan.ac.in/Content/media/DU_Logo.svg' width=\"250\" height=\"300\"/></a>\n",
    "<pre>\n",
    "<center><b><h1>Python Programming - 2101CS405</b></center>\n",
    "<center><b><h1>Lab - 2</b></center>    \n",
    "<pre>"
   ]
  },
  {
   "cell_type": "markdown",
   "metadata": {},
   "source": [
    "# if..else.."
   ]
  },
  {
   "cell_type": "markdown",
   "metadata": {},
   "source": [
    "### 01) WAP to check whether the given number is positive or negative."
   ]
  },
  {
   "cell_type": "code",
   "execution_count": 7,
   "metadata": {},
   "outputs": [
    {
     "name": "stdout",
     "output_type": "stream",
     "text": [
      "Enter your number : 9053\n",
      "your Number is positive\n"
     ]
    }
   ],
   "source": [
    "Number = float(input(\"Enter your number : \"))\n",
    "if Number > 0:\n",
    "    print(\"your Number is positive\")\n",
    "else:\n",
    "    print(\"Number is negative\")"
   ]
  },
  {
   "cell_type": "markdown",
   "metadata": {},
   "source": [
    "### 02) WAP to check whether the given number is odd or even"
   ]
  },
  {
   "cell_type": "code",
   "execution_count": 17,
   "metadata": {},
   "outputs": [
    {
     "name": "stdout",
     "output_type": "stream",
     "text": [
      "Enter your number : 13\n",
      "your number is odd\n"
     ]
    }
   ],
   "source": [
    "Number = int(input(\"Enter your number : \"))\n",
    "if Number%2==0:\n",
    "    print(\"your number is even\")\n",
    "else:\n",
    "    print(\"your number is odd\")"
   ]
  },
  {
   "cell_type": "markdown",
   "metadata": {},
   "source": [
    "### 03) WAP to find out largest number from given two numbers using simple if and ternary operator."
   ]
  },
  {
   "cell_type": "code",
   "execution_count": 81,
   "metadata": {},
   "outputs": [
    {
     "name": "stdout",
     "output_type": "stream",
     "text": [
      "Please Enter the First Number: 90\n",
      "Please Enter the Second Number: 53\n",
      "90.0 is largest Number\n"
     ]
    }
   ],
   "source": [
    "a = float(input(\"Please Enter the First Number: \"))\n",
    "b = float(input(\"Please Enter the Second Number: \"))\n",
    "\n",
    "print(a,\"is largest Number\") if (a>b) else print(b,\"is largest Number\")"
   ]
  },
  {
   "cell_type": "markdown",
   "metadata": {},
   "source": [
    "### 04) WAP to find out largest number from given three numbers."
   ]
  },
  {
   "cell_type": "code",
   "execution_count": 4,
   "metadata": {},
   "outputs": [
    {
     "name": "stdout",
     "output_type": "stream",
     "text": [
      "Enter first number: 12\n",
      "Enter second number: 13\n",
      "Enter third number: 14\n",
      "The largest number is :  14.0\n"
     ]
    }
   ],
   "source": [
    "num1 = float(input(\"Enter first number: \"))\n",
    "num2 = float(input(\"Enter second number: \"))\n",
    "num3 = float(input(\"Enter third number: \"))\n",
    "\n",
    "if (num1 > num2) and (num1 > num3):\n",
    "   largest = num1\n",
    "elif (num2 > num1) and (num2 > num3):\n",
    "   largest = num2\n",
    "else:\n",
    "   largest = num3\n",
    "\n",
    "print(\"The largest number is : \", largest)"
   ]
  },
  {
   "cell_type": "markdown",
   "metadata": {},
   "source": [
    "### 05) WAP to check whether the given year is leap year or not.\n",
    "[If a year can be divisible by 4 but not divisible by 100 then it is leap year but if it is divisible by 400 then it is leap year]"
   ]
  },
  {
   "cell_type": "code",
   "execution_count": 1,
   "metadata": {},
   "outputs": [
    {
     "name": "stdout",
     "output_type": "stream",
     "text": [
      "enter year : 2004\n",
      "given year is leap year\n"
     ]
    }
   ],
   "source": [
    "year = int(input(\"enter year : \"))\n",
    "if(year%4==0 or year%100!=0 and year%400==0):\n",
    "    print(\"given year is leap year\")\n",
    "else:\n",
    "    print(\"given year is not leap year\")"
   ]
  },
  {
   "cell_type": "markdown",
   "metadata": {},
   "source": [
    "### 06) WAP in python to display the name of the day according to the number given by the user"
   ]
  },
  {
   "cell_type": "code",
   "execution_count": 34,
   "metadata": {},
   "outputs": [
    {
     "name": "stdout",
     "output_type": "stream",
     "text": [
      "enter day a number :5\n",
      "\n",
      "Friday\n"
     ]
    }
   ],
   "source": [
    "Day = int(input(\"enter day a number :\"))\n",
    "if Day == 1:\n",
    "    print(\"\\nMonday\")\n",
    "elif Day == 2:\n",
    "    print(\"\\nTuesday\")\n",
    "elif Day == 3:\n",
    "    print(\"\\nWednesday\")\n",
    "elif Day == 4:\n",
    "    print(\"\\nTuesday\")\n",
    "elif Day == 5:\n",
    "    print(\"\\nFriday\")\n",
    "elif Day == 6:\n",
    "    print(\"\\nSaturday\")\n",
    "elif Day == 7:\n",
    "    print(\"\\nWednesday\")\n",
    "else:\n",
    "    print(\"please enter day number between 1 to 7\")"
   ]
  },
  {
   "cell_type": "markdown",
   "metadata": {},
   "source": [
    "### 07) WAP to implement simple calculator which performs (add,sub,mul,div) of two no. based on user input."
   ]
  },
  {
   "cell_type": "code",
   "execution_count": 38,
   "metadata": {},
   "outputs": [
    {
     "name": "stdout",
     "output_type": "stream",
     "text": [
      "enter first number :10\n",
      "enter second number :12\n",
      "1 for addition\n",
      "2 for substraction\n",
      "3 for multiplay\n",
      "4 for division\n",
      "enter input1\n",
      "your addition is : 22.0\n"
     ]
    }
   ],
   "source": [
    "num1 = float(input(\"enter first number :\"))\n",
    "num2 = float(input(\"enter second number :\"))\n",
    "print(\"1 for addition\")\n",
    "print(\"2 for substraction\")\n",
    "print(\"3 for multiplay\")\n",
    "print(\"4 for division\")\n",
    "c = int(input(\"enter input\"))\n",
    "\n",
    "if c==1:\n",
    "    print(\"your addition is :\",num1+num2)\n",
    "elif c==2:\n",
    "    print(\"your substraction is :\",num1-num2)\n",
    "elif c==3:\n",
    "    print(\"your multiplay is :\",num1*num2)\n",
    "elif c==4:\n",
    "    print(\"your division is :\",num1/num2)\n",
    "else:\n",
    "    print(\"enter valid number\")"
   ]
  },
  {
   "cell_type": "markdown",
   "metadata": {},
   "source": [
    "### 08) WAP to calculate electricity bill based on following criteria. Which takes the unit from the user.\n",
    "a. First 1 to 50 units – Rs. 2.60/unit</br>\n",
    "b. Next 50 to 100 units – Rs. 3.25/unit</br>\n",
    "c. Next 100 to 200 units – Rs. 5.26/unit</br>\n",
    "d. above 200 units – Rs. 8.45/unit"
   ]
  },
  {
   "cell_type": "code",
   "execution_count": 3,
   "metadata": {},
   "outputs": [
    {
     "name": "stdout",
     "output_type": "stream",
     "text": [
      "enter unit :20\n",
      "your Rs is: 169.0\n"
     ]
    }
   ],
   "source": [
    "unit = float(input(\"enter unit :\"))\n",
    "\n",
    "if unit>=1 and unit<50:\n",
    "    print(\"your Rs is:\", unit*2.60)\n",
    "elif unit<=50 and unit>100:\n",
    "     print(\"your Rs is:\", unit*3.25)\n",
    "elif unit<=100 and unit>200:\n",
    "     print(\"your Rs is:\", unit*5.26)\n",
    "elif unit<200:\n",
    "     print(\"your Rs is:\", unit*8.45)"
   ]
  },
  {
   "cell_type": "markdown",
   "metadata": {},
   "source": [
    "### 01) WAP to read marks of five subjects. Calculate percentage and print class accordingly. \n",
    "Fail below 35 </br>\n",
    "Pass Class between 35 to 45 </br>\n",
    "Second Class</br>\n",
    "between 45 to 60</br>\n",
    "First Class between 60 to 70</br> \n",
    "Distinction if more than 70"
   ]
  },
  {
   "cell_type": "code",
   "execution_count": 72,
   "metadata": {},
   "outputs": [
    {
     "name": "stdout",
     "output_type": "stream",
     "text": [
      "enter your subject_1 mark : 91\n",
      "enter your subject_2 mark : 92\n",
      "enter your subject_3 mark : 93\n",
      "enter your subject_4 mark : 94\n",
      "enter your subject_5 mark : 95\n",
      "your total marks is :  465\n",
      "your percentage is :  93.0\n",
      "congratulations you are in Distinction class :)\n"
     ]
    }
   ],
   "source": [
    "subject_1 = int(input(\"enter your subject_1 mark : \"))\n",
    "subject_2 = int(input(\"enter your subject_2 mark : \"))\n",
    "subject_3 = int(input(\"enter your subject_3 mark : \"))\n",
    "subject_4 = int(input(\"enter your subject_4 mark : \"))\n",
    "subject_5 = int(input(\"enter your subject_5 mark : \"))\n",
    "print(\"your total marks is : \",subject_1+subject_2+subject_3+subject_4+subject_5)\n",
    "print(\"your percentage is : \",(subject_1+subject_2+subject_3+subject_4+subject_5)/5)\n",
    "percentage = (subject_1+subject_2+subject_3+subject_4+subject_5)/5\n",
    "\n",
    "if percentage<35:\n",
    "    print(\"sorry you are fail :(\")\n",
    "elif percentage>=35 and percentage<45:\n",
    "    print(\"congratulations you are pass :)\")\n",
    "elif percentage>=45 and percentage<60:\n",
    "    print(\"congratulations you are in second class :)\")\n",
    "elif percentage>=60 and percentage<70:\n",
    "    print(\"congratulations you are in first class :)\")\n",
    "elif percentage>70:\n",
    "    print(\"congratulations you are in Distinction class :)\")"
   ]
  },
  {
   "cell_type": "markdown",
   "metadata": {},
   "source": [
    "### 02) WAP to find out the Maximum and Minimum number from given 4 numbers."
   ]
  },
  {
   "cell_type": "code",
   "execution_count": 1,
   "metadata": {},
   "outputs": [
    {
     "name": "stdout",
     "output_type": "stream",
     "text": [
      "Enter first number: 10\n",
      "Enter second number: 11\n",
      "Enter third number: 12\n",
      "Enter four number: 13\n",
      "13.0 number is max\n",
      "======= for Minimum =======\n",
      "Enter first number: 10\n",
      "Enter second number: 11\n",
      "Enter third number: 12\n",
      "Enter four number: 13\n",
      "10.0 number is minimum\n"
     ]
    }
   ],
   "source": [
    "num1 = float(input(\"Enter first number: \"))\n",
    "num2 = float(input(\"Enter second number: \"))\n",
    "num3 = float(input(\"Enter third number: \"))\n",
    "num4 = float(input(\"Enter four number: \"))\n",
    "\n",
    "if (num1 > num2) and (num1 > num3) and (num1 > num3):\n",
    "    print(num1,\"number is maximum\")\n",
    "elif(num2 > num3 and num3 > num4):\n",
    "    print(num2,\"number is max\")\n",
    "elif(num3 > num4):\n",
    "    print(num3,\"number is max\")\n",
    "else:\n",
    "    print(num4,\"number is max\")\n",
    "    \n",
    "\n",
    "    \n",
    "print(\"======= for Minimum =======\")\n",
    "\n",
    "\n",
    "num1 = float(input(\"Enter first number: \"))\n",
    "num2 = float(input(\"Enter second number: \"))\n",
    "num3 = float(input(\"Enter third number: \"))\n",
    "num4 = float(input(\"Enter four number: \"))\n",
    "\n",
    "if (num1 < num2) and (num1 < num3) and (num1 < num3):\n",
    "    print(num1,\"number is minimum\")\n",
    "elif(num2 < num3 and num3 < num4):\n",
    "    print(num2,\"number is minimum\")\n",
    "elif(num3 < num4):\n",
    "    print(num3,\"number is minimum\")\n",
    "else:\n",
    "    print(num4,\"number is minimum\")\n",
    "\n",
    "\n"
   ]
  },
  {
   "cell_type": "markdown",
   "metadata": {},
   "source": [
    "### 03) WAP to input an integer number and check the last digit of number is even or odd."
   ]
  },
  {
   "cell_type": "code",
   "execution_count": 77,
   "metadata": {},
   "outputs": [
    {
     "name": "stdout",
     "output_type": "stream",
     "text": [
      "enter number : 143\n",
      "3 is last digit and it is odd\n"
     ]
    }
   ],
   "source": [
    "number = int(input(\"enter number : \"))\n",
    "last_digit = number%10\n",
    "\n",
    "if last_digit%2==0:\n",
    "    print(last_digit,\"is last digit  and it is even\")\n",
    "else:\n",
    "     print(last_digit,\"is last digit and it is odd\")"
   ]
  },
  {
   "cell_type": "markdown",
   "metadata": {},
   "source": [
    "### 04) WAP to determine the roots of the equation ax2+bx+c=0."
   ]
  },
  {
   "cell_type": "code",
   "execution_count": 88,
   "metadata": {},
   "outputs": [
    {
     "name": "stdout",
     "output_type": "stream",
     "text": [
      "enter a : 4\n",
      "enter b : 5\n",
      "enter c : 1\n",
      "D= 9\n",
      "There are two roots (-0.25, -1.0)\n"
     ]
    }
   ],
   "source": [
    "a= int(input(\"enter a : \"))\n",
    "b= int(input(\"enter b : \"))\n",
    "c= int(input(\"enter c : \"))\n",
    "\n",
    "print(\"D=\",b*b-(4*c*a))\n",
    "Delta = b*b-(4*c*a)\n",
    "\n",
    "if Delta>0:\n",
    "    x1 =(((-b)+(Delta**0.5)))/(2*a)\n",
    "    x2 = (((-b)-(Delta**0.5)))/(2*a)\n",
    "    print(\"There are two roots\",(x1,x2))\n",
    "elif Delta==0:\n",
    "    x = (-b) / 2\n",
    "    print(\"There are one root\",x)\n",
    "else:\n",
    "    print(\"No roots when Delta < 0\")"
   ]
  },
  {
   "cell_type": "code",
   "execution_count": null,
   "metadata": {},
   "outputs": [],
   "source": []
  }
 ],
 "metadata": {
  "kernelspec": {
   "display_name": "Python 3 (ipykernel)",
   "language": "python",
   "name": "python3"
  },
  "language_info": {
   "codemirror_mode": {
    "name": "ipython",
    "version": 3
   },
   "file_extension": ".py",
   "mimetype": "text/x-python",
   "name": "python",
   "nbconvert_exporter": "python",
   "pygments_lexer": "ipython3",
   "version": "3.9.13"
  }
 },
 "nbformat": 4,
 "nbformat_minor": 4
}
