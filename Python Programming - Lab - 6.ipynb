{
 "cells": [
  {
   "cell_type": "markdown",
   "metadata": {},
   "source": [
    "<a href='https://www.darshan.ac.in/'> <img src='https://www.darshan.ac.in/Content/media/DU_Logo.svg' width=\"250\" height=\"300\"/></a>\n",
    "<pre>\n",
    "<center><b><h1>Python Programming - 2101CS405</b></center>\n",
    "<center><b><h1>Lab - 6</b></center>    \n",
    "<pre>"
   ]
  },
  {
   "cell_type": "markdown",
   "metadata": {},
   "source": [
    "# Tuples, dictionary, set"
   ]
  },
  {
   "cell_type": "markdown",
   "metadata": {},
   "source": [
    "# A"
   ]
  },
  {
   "cell_type": "markdown",
   "metadata": {},
   "source": [
    "### 01) WAP to sort python dictionary by key or value."
   ]
  },
  {
   "cell_type": "code",
   "execution_count": 3,
   "metadata": {},
   "outputs": [
    {
     "name": "stdout",
     "output_type": "stream",
     "text": [
      "Sorted Dictionary By Keys :  {'buddy': 20, 'hey': 5}\n",
      "Sorted Dictionary By Values:  {'hey': 5, 'buddy': 20}\n"
     ]
    }
   ],
   "source": [
    "my_dictionary = {\"collage\": \"darshan\", \"Happy\": \"Raj\",\n",
    "                 \"Rajveer\": \"Harsh\", \"darshan\": \"university\"}\n",
    "my_dictionary = {\"buddy\": 20, \"hey\": 5}\n",
    "sortedDictByKeys = sorted(my_dictionary.items(), key=lambda x: x[0])\n",
    "sortedDictByValues = sorted(my_dictionary.items(), key=lambda x: x[1])\n",
    "print(\"Sorted Dictionary By Keys : \", dict(sortedDictByKeys))\n",
    "print(\"Sorted Dictionary By Values: \", dict(sortedDictByValues))"
   ]
  },
  {
   "cell_type": "markdown",
   "metadata": {},
   "source": [
    "### 02) WAP to merge two dictionaries given by user."
   ]
  },
  {
   "cell_type": "code",
   "execution_count": 7,
   "metadata": {},
   "outputs": [
    {
     "name": "stdout",
     "output_type": "stream",
     "text": [
      "Enter Length Of Your Dictionary1 : 1\n",
      "Enter Keys : happy\n",
      "Enter Values : ramani\n",
      "Enter Length Of Your Dictionary2 : 1\n",
      "Enter Keys : keval\n",
      "Enter Values : savaliya\n",
      "{'happy': 'ramani', 'keval': 'savaliya'}\n"
     ]
    }
   ],
   "source": [
    "def makeDictionary(n):\n",
    "    my_dictionary = {}\n",
    "    for i in range(n):\n",
    "        keys = input(\"Enter Keys : \")\n",
    "        values = input(\"Enter Values : \")\n",
    "        my_dictionary[keys] = values\n",
    "    return my_dictionary\n",
    "\n",
    "\n",
    "length1 = int(input(\"Enter Length Of Your Dictionary1 : \"))\n",
    "dict1 = makeDictionary(length1)\n",
    "\n",
    "length2 = int(input(\"Enter Length Of Your Dictionary2 : \"))\n",
    "dict2 = makeDictionary(length2)\n",
    "\n",
    "dict3 = dict1 | dict2\n",
    "\n",
    "print(dict3)"
   ]
  },
  {
   "cell_type": "markdown",
   "metadata": {},
   "source": [
    "### 03) WAP to find tuples that have all elements divisible by K from a list of tuples."
   ]
  },
  {
   "cell_type": "code",
   "execution_count": 20,
   "metadata": {},
   "outputs": [
    {
     "name": "stdout",
     "output_type": "stream",
     "text": [
      "Enter Size Of List Of Tuple : 2\n",
      "Enter Size Of Tuple2\n",
      "Enter Value : 5\n",
      "Enter Value : 10\n",
      "Enter Value : 15\n",
      "Enter Value : 20\n",
      "Enter Value Of K : 5\n",
      "[(5, 10), (15, 20)]\n"
     ]
    }
   ],
   "source": [
    "def makeTuple(size):\n",
    "    list1 = []\n",
    "    for i in range(size):\n",
    "        val = int(input(\"Enter Value : \"))\n",
    "        list1.append(val)\n",
    "    return tuple(list1)\n",
    "\n",
    "\n",
    "list1 = []\n",
    "sizeOfListOfTuple = int(input(\"Enter Size Of List Of Tuple : \"))\n",
    "sizeOfTuple = int(input(\"Enter Size Of Tuple\"))\n",
    "for i in range(sizeOfListOfTuple):\n",
    "    list1.append(makeTuple(sizeOfTuple))\n",
    "\n",
    "k = int(input(\"Enter Value Of K : \"))\n",
    "tupleDivisibleByK = []\n",
    "for i in list1:\n",
    "    for j in i:\n",
    "        if j % k != 0:\n",
    "            break\n",
    "    else:\n",
    "        tupleDivisibleByK.append(i)\n",
    "print(tupleDivisibleByK)"
   ]
  },
  {
   "cell_type": "markdown",
   "metadata": {},
   "source": [
    "### 04) WAP to find Tuples with positive elements in List of tuples."
   ]
  },
  {
   "cell_type": "code",
   "execution_count": 22,
   "metadata": {},
   "outputs": [
    {
     "name": "stdout",
     "output_type": "stream",
     "text": [
      "Enter Size Of List Of Tuple : 2\n",
      "Enter Size Of Tuple2\n",
      "Enter Value : -10\n",
      "Enter Value : -20\n",
      "Enter Value : 10\n",
      "Enter Value : 20\n",
      "[(10, 20)]\n"
     ]
    }
   ],
   "source": [
    "def makeTuple(size):\n",
    "    list1 = []\n",
    "    for i in range(size):\n",
    "        val = int(input(\"Enter Value : \"))\n",
    "        list1.append(val)\n",
    "    return tuple(list1)\n",
    "\n",
    "\n",
    "list1 = []\n",
    "sizeOfListOfTuple = int(input(\"Enter Size Of List Of Tuple : \"))\n",
    "sizeOfTuple = int(input(\"Enter Size Of Tuple\"))\n",
    "for i in range(sizeOfListOfTuple):\n",
    "    list1.append(makeTuple(sizeOfTuple))\n",
    "\n",
    "tupleDivisibleByK = []\n",
    "for i in list1:\n",
    "    for j in i:\n",
    "        if j < 0:\n",
    "            break\n",
    "    else:\n",
    "        tupleDivisibleByK.append(i)\n",
    "print(tupleDivisibleByK)"
   ]
  },
  {
   "cell_type": "markdown",
   "metadata": {},
   "source": [
    "### 05) WAP which perform union of two sets."
   ]
  },
  {
   "cell_type": "code",
   "execution_count": 25,
   "metadata": {},
   "outputs": [
    {
     "name": "stdout",
     "output_type": "stream",
     "text": [
      "Enter Length Of Set 12\n",
      "Enter Value In Set 110\n",
      "Enter Value In Set 120\n",
      "Enter Length Of Set 22\n",
      "Enter Value In Set 130\n",
      "Enter Value In Set 140\n",
      "{'10', '20'}\n",
      "{'40', '30'}\n",
      "{'10', '40', '20', '30'}\n"
     ]
    }
   ],
   "source": [
    "def makeSet(length):\n",
    "    list1 = []\n",
    "    for i in range(length1):\n",
    "        val = input(\"Enter Value In Set 1\")\n",
    "        list1.append(val)\n",
    "    return set((list1))\n",
    "\n",
    "\n",
    "length1 = int(input(\"Enter Length Of Set 1:\"))\n",
    "set1 = makeSet(length1)\n",
    "length1 = int(input(\"Enter Length Of Set 2\"))\n",
    "set2 = makeSet(length1)\n",
    "print(set1)\n",
    "print(set2)\n",
    "union = set1.union(set2)\n",
    "print(union)"
   ]
  },
  {
   "cell_type": "markdown",
   "metadata": {},
   "source": [
    "# B"
   ]
  },
  {
   "cell_type": "markdown",
   "metadata": {},
   "source": [
    "### 01) WAP to convert binary tuple into integer."
   ]
  },
  {
   "cell_type": "code",
   "execution_count": 31,
   "metadata": {},
   "outputs": [
    {
     "name": "stdout",
     "output_type": "stream",
     "text": [
      "Enter Size Of Tuple3\n",
      "Enter Value : 1\n",
      "Enter Value : 1\n",
      "Enter Value : 1\n",
      "Tuple :  (1, 1, 1)\n",
      "Binary Number :  7.0\n"
     ]
    }
   ],
   "source": [
    "def makeTuple(size):\n",
    "    list1 = []\n",
    "    for i in range(size):\n",
    "        val = int(input(\"Enter Value : \"))\n",
    "        list1.append(val)\n",
    "    return tuple(list1)\n",
    "\n",
    "\n",
    "sizeOfTuple = int(input(\"Enter Size Of Tuple\"))\n",
    "ans = 0.0\n",
    "tuple1 = makeTuple(sizeOfTuple)\n",
    "size = len(tuple1)-1\n",
    "for i in tuple1:\n",
    "    ans += i*2**size\n",
    "    size -= 1\n",
    "print(\"Tuple : \", tuple1)\n",
    "print(\"Binary Number : \", ans)"
   ]
  },
  {
   "cell_type": "markdown",
   "metadata": {},
   "source": [
    "### 02) WAP to count frequency in list by dictionary."
   ]
  },
  {
   "cell_type": "code",
   "execution_count": 18,
   "metadata": {},
   "outputs": [
    {
     "name": "stdout",
     "output_type": "stream",
     "text": [
      "Enter Element For List In One Line : happy\n",
      "{'h': 1, 'a': 1, 'p': 2, 'y': 1}\n"
     ]
    }
   ],
   "source": [
    "element = input(\"Enter Element For List In One Line : \")\n",
    "listOfElement = list(element)\n",
    "\n",
    "\n",
    "def countFrquency(listOfElement):\n",
    "    freq = {}\n",
    "    for i in listOfElement:\n",
    "        if i in freq:\n",
    "            freq[i] += 1\n",
    "        else:\n",
    "            freq[i] = 1\n",
    "    return freq\n",
    "\n",
    "\n",
    "val = countFrquency(listOfElement)\n",
    "print(val)"
   ]
  },
  {
   "cell_type": "markdown",
   "metadata": {},
   "source": [
    "### 03) WAP to remove all the duplicate words from the list using dictionary."
   ]
  },
  {
   "cell_type": "code",
   "execution_count": 19,
   "metadata": {},
   "outputs": [
    {
     "name": "stdout",
     "output_type": "stream",
     "text": [
      "Enter Element For List In One Line : happy\n",
      "['h', 'a', 'p', 'y']\n"
     ]
    }
   ],
   "source": [
    "element = input(\"Enter Element For List In One Line : \")\n",
    "listOfElement = list(element)\n",
    "dict = list(dict.fromkeys(listOfElement))\n",
    "print(dict)"
   ]
  },
  {
   "cell_type": "code",
   "execution_count": null,
   "metadata": {},
   "outputs": [],
   "source": []
  }
 ],
 "metadata": {
  "kernelspec": {
   "display_name": "Python 3 (ipykernel)",
   "language": "python",
   "name": "python3"
  },
  "language_info": {
   "codemirror_mode": {
    "name": "ipython",
    "version": 3
   },
   "file_extension": ".py",
   "mimetype": "text/x-python",
   "name": "python",
   "nbconvert_exporter": "python",
   "pygments_lexer": "ipython3",
   "version": "3.9.13"
  }
 },
 "nbformat": 4,
 "nbformat_minor": 4
}
