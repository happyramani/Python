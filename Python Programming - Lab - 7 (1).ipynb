{
 "cells": [
  {
   "cell_type": "markdown",
   "metadata": {},
   "source": [
    "<a href='https://www.darshan.ac.in/'> <img src='https://www.darshan.ac.in/Content/media/DU_Logo.svg' width=\"250\" height=\"300\"/></a>\n",
    "<pre>\n",
    "<center><b><h1>Python Programming - 2101CS405</b></center>\n",
    "<center><b><h1>Lab - 7</b></center>    \n",
    "<pre>"
   ]
  },
  {
   "cell_type": "markdown",
   "metadata": {},
   "source": [
    "# Functions"
   ]
  },
  {
   "cell_type": "markdown",
   "metadata": {},
   "source": [
    "### 01) WAP to count simple interest using function."
   ]
  },
  {
   "cell_type": "code",
   "execution_count": 5,
   "metadata": {},
   "outputs": [
    {
     "name": "stdout",
     "output_type": "stream",
     "text": [
      "enter Principal Amount->100\n",
      "Rate of Interest->2\n",
      "enter year->2\n",
      "simple interest is  4.0\n"
     ]
    }
   ],
   "source": [
    "def simple_interest(p,r,t):\n",
    "    si=(p*r*t)/100\n",
    "    return si\n",
    "p=int(input(\"enter Principal Amount->\"))\n",
    "r=int(input(\"Rate of Interest->\"))\n",
    "t=int(input(\"enter year->\"))\n",
    "simple_interest(p,r,t)\n",
    "print(\"simple interest is \",simple_interest(p,r,t))"
   ]
  },
  {
   "cell_type": "markdown",
   "metadata": {},
   "source": [
    "### 02) WAP that defines a function to add first n numbers."
   ]
  },
  {
   "cell_type": "code",
   "execution_count": 6,
   "metadata": {},
   "outputs": [
    {
     "name": "stdout",
     "output_type": "stream",
     "text": [
      "enter a value up to which find the sum of n natural number ->10\n",
      "sum of first n natural number is ==  55.0\n"
     ]
    }
   ],
   "source": [
    "def sumfirstN(n):\n",
    "    sum=(n*(n+1))/2\n",
    "    return sum\n",
    "n=int(input(\"enter a value up to which find the sum of n natural number ->\"))\n",
    "ans=sumfirstN(n)\n",
    "print(\"sum of first n natural number is == \",ans)"
   ]
  },
  {
   "cell_type": "markdown",
   "metadata": {},
   "source": [
    "### 03) WAP to find maximum number from given two numbers using function."
   ]
  },
  {
   "cell_type": "code",
   "execution_count": 8,
   "metadata": {},
   "outputs": [
    {
     "name": "stdout",
     "output_type": "stream",
     "text": [
      "enter number 1->10\n",
      "enter number 2->20\n",
      "maximum is =  20\n"
     ]
    }
   ],
   "source": [
    "def maximum(*a):\n",
    "    result=max(a)\n",
    "    return result\n",
    "\n",
    "p=int(input(\"enter number 1->\"))\n",
    "r=int(input(\"enter number 2->\"))\n",
    "ans=maximum(p,r)\n",
    "print(\"maximum is = \",ans)     "
   ]
  },
  {
   "cell_type": "markdown",
   "metadata": {},
   "source": [
    "### 04) WAP that defines a function which returns 1 if the number is prime otherwise return 0."
   ]
  },
  {
   "cell_type": "code",
   "execution_count": 9,
   "metadata": {},
   "outputs": [
    {
     "name": "stdout",
     "output_type": "stream",
     "text": [
      "enter number ->20\n",
      "0\n"
     ]
    }
   ],
   "source": [
    "def prime(a):\n",
    "    flag = False\n",
    "    if a == 1:\n",
    "        return 0\n",
    "    elif a > 1:\n",
    "\n",
    "        for i in range(2, a):\n",
    "            if (a % i) == 0:\n",
    "                flag = True\n",
    "                break\n",
    "        if flag==True:\n",
    "            return 0\n",
    "\n",
    "        else:\n",
    "            return 1\n",
    "\n",
    "p=int(input(\"enter number ->\"))\n",
    "ans=prime(p)\n",
    "print(ans)"
   ]
  },
  {
   "cell_type": "markdown",
   "metadata": {},
   "source": [
    "### 05) Write a function called primes that takes an integer value as an argument and returns a list of all prime numbers up to that number."
   ]
  },
  {
   "cell_type": "code",
   "execution_count": 12,
   "metadata": {},
   "outputs": [
    {
     "name": "stdout",
     "output_type": "stream",
     "text": [
      "enter number ->23\n",
      "2\n",
      "3\n",
      "5\n",
      "7\n",
      "11\n",
      "13\n",
      "17\n",
      "19\n",
      "23\n"
     ]
    }
   ],
   "source": [
    "def prime(num):\n",
    "    for n in range(2,num+1):\n",
    "        prime=True\n",
    "        for i in range(2,n):\n",
    "            if(n%i == 0):\n",
    "                prime=False\n",
    "        if prime:\n",
    "            print(n)   \n",
    "\n",
    "\n",
    "p=int(input(\"enter number ->\"))\n",
    "prime(p)"
   ]
  },
  {
   "cell_type": "markdown",
   "metadata": {},
   "source": [
    "### 06) WAP to generate Fibonacci series of N given number using function name fibbo. (e.g. 0 1 1 2 3 5 8...)"
   ]
  },
  {
   "cell_type": "code",
   "execution_count": 24,
   "metadata": {},
   "outputs": [
    {
     "name": "stdout",
     "output_type": "stream",
     "text": [
      "10\n",
      "1\n",
      "1\n",
      "2\n",
      "3\n",
      "5\n",
      "8\n",
      "13\n",
      "21\n",
      "34\n",
      "55\n"
     ]
    }
   ],
   "source": [
    "def fibonacci():\n",
    "    n=int(input())\n",
    "    a=0\n",
    "    b=1\n",
    "    for i in range(n):\n",
    "        print(b)\n",
    "        a,b= b,a+b\n",
    "\n",
    "obj = fibonacci()"
   ]
  },
  {
   "cell_type": "markdown",
   "metadata": {},
   "source": [
    "### 07) WAP to find the factorial of a given number using recursion."
   ]
  },
  {
   "cell_type": "code",
   "execution_count": 13,
   "metadata": {},
   "outputs": [
    {
     "name": "stdout",
     "output_type": "stream",
     "text": [
      "enter number ->10\n",
      "3628800\n"
     ]
    }
   ],
   "source": [
    "def rec_fectorial(a):\n",
    "    if a==1:\n",
    "        return 1\n",
    "    else:\n",
    "        return a*rec_fectorial(a-1)   \n",
    "p=int(input(\"enter number ->\"))\n",
    "rec_fectorial(p)\n",
    "print(rec_fectorial(p))"
   ]
  },
  {
   "cell_type": "markdown",
   "metadata": {},
   "source": [
    "### 08) WAP to implement simple calculator using lamda function."
   ]
  },
  {
   "cell_type": "code",
   "execution_count": 4,
   "metadata": {},
   "outputs": [
    {
     "name": "stdout",
     "output_type": "stream",
     "text": [
      "Enter Number : 5\n",
      "Enter Number : 10\n",
      "Enter Choice : *\n",
      "50\n"
     ]
    }
   ],
   "source": [
    "\n",
    "n1 = int(input(\"Enter Number : \"))\n",
    "n2 = int(input(\"Enter Number : \"))\n",
    "n3 = input(\"Enter Choice : \")\n",
    "ans = lambda n1,n2,n3 : n1+n2 if n3==\"+\" else n1-n2 if n3==\"-\" else n1*n2 if n3==\"*\" else n1//n2 if n3==\"/\" else \"Wrong Operation\"\n",
    "print(ans(n1,n2,n3))\n"
   ]
  },
  {
   "cell_type": "markdown",
   "metadata": {},
   "source": [
    "### 09)Write a Python program that accepts a hyphen-separated sequence of words as input and prints the words in a hyphen-separated sequence after sorting them alphabetically\n",
    "Sample Items : green-red-yellow-black-white <br>\n",
    "Expected Result : black-green-red-white-yellow"
   ]
  },
  {
   "cell_type": "code",
   "execution_count": null,
   "metadata": {},
   "outputs": [],
   "source": []
  },
  {
   "cell_type": "markdown",
   "metadata": {},
   "source": [
    "### 10) Write a python program to implement all function arguments type\n",
    "Positional arguments <Br>\n",
    "Default argument <Br>\n",
    "Keyword arguments (named arguments) <Br>\n",
    "Arbitrary arguments (variable-length arguments args and kwargs)"
   ]
  },
  {
   "cell_type": "code",
   "execution_count": null,
   "metadata": {},
   "outputs": [],
   "source": []
  },
  {
   "cell_type": "code",
   "execution_count": null,
   "metadata": {},
   "outputs": [],
   "source": []
  },
  {
   "cell_type": "markdown",
   "metadata": {},
   "source": [
    "### 01) WAP to calculate power of a number using recursion."
   ]
  },
  {
   "cell_type": "code",
   "execution_count": 17,
   "metadata": {},
   "outputs": [
    {
     "name": "stdout",
     "output_type": "stream",
     "text": [
      "Enter Number : 143\n",
      "Enter Number : 2\n"
     ]
    },
    {
     "data": {
      "text/plain": [
       "20449"
      ]
     },
     "execution_count": 17,
     "metadata": {},
     "output_type": "execute_result"
    }
   ],
   "source": [
    "def powers(base,power):\n",
    "    if power==1:\n",
    "        return base\n",
    "    elif power==0:\n",
    "        return 1\n",
    "    else:\n",
    "        return base*powers(base,power-1)\n",
    "base = int(input(\"Enter Number : \"))\n",
    "power = int(input(\"Enter Number : \"))\n",
    "powers(base,power)"
   ]
  },
  {
   "cell_type": "markdown",
   "metadata": {},
   "source": [
    "### 02) WAP to count digits of a number using recursion."
   ]
  },
  {
   "cell_type": "code",
   "execution_count": 16,
   "metadata": {},
   "outputs": [
    {
     "name": "stdout",
     "output_type": "stream",
     "text": [
      "Enter Number : 10\n",
      "2\n"
     ]
    }
   ],
   "source": [
    "def countDigits(n):\n",
    "    if n<10:\n",
    "        return 1\n",
    "    else:\n",
    "        return 1+countDigits(n//10)\n",
    "\n",
    "\n",
    "n = int(input(\"Enter Number : \"))\n",
    "ans = countDigits(n)\n",
    "print(ans)"
   ]
  },
  {
   "cell_type": "markdown",
   "metadata": {},
   "source": [
    "### 03) WAP to reverse an integer number using recursion."
   ]
  },
  {
   "cell_type": "code",
   "execution_count": 15,
   "metadata": {},
   "outputs": [
    {
     "name": "stdout",
     "output_type": "stream",
     "text": [
      "Enter Number : 20\n",
      "Reverse :  2\n"
     ]
    }
   ],
   "source": [
    "reverse_number = 0\n",
    "def reverseNumber(n):\n",
    "    global reverse_number\n",
    "    if(n>0):\n",
    "        reminder = n%10\n",
    "        reverse_number = reverse_number*10 + reminder\n",
    "        reverseNumber(n//10)\n",
    "    return reverse_number\n",
    "\n",
    "\n",
    "n = int(input(\"Enter Number : \"))\n",
    "reverse_number = reverseNumber(n)\n",
    "print(\"Reverse : \",reverse_number)"
   ]
  },
  {
   "cell_type": "markdown",
   "metadata": {},
   "source": [
    "### 04) WAP to convert decimal number into binary using recursion."
   ]
  },
  {
   "cell_type": "code",
   "execution_count": 3,
   "metadata": {},
   "outputs": [
    {
     "ename": "SyntaxError",
     "evalue": "invalid syntax (2765789970.py, line 1)",
     "output_type": "error",
     "traceback": [
      "\u001b[1;36m  File \u001b[1;32m\"C:\\Users\\Smart\\AppData\\Local\\Temp\\ipykernel_26208\\2765789970.py\"\u001b[1;36m, line \u001b[1;32m1\u001b[0m\n\u001b[1;33m    import Python Programming - Lab - 9 as d\u001b[0m\n\u001b[1;37m                  ^\u001b[0m\n\u001b[1;31mSyntaxError\u001b[0m\u001b[1;31m:\u001b[0m invalid syntax\n"
     ]
    }
   ],
   "source": [
    "import Python Programming - Lab - 9 as d\n",
    "d.add(4,5)\n"
   ]
  },
  {
   "cell_type": "code",
   "execution_count": null,
   "metadata": {},
   "outputs": [],
   "source": []
  }
 ],
 "metadata": {
  "kernelspec": {
   "display_name": "Python 3 (ipykernel)",
   "language": "python",
   "name": "python3"
  },
  "language_info": {
   "codemirror_mode": {
    "name": "ipython",
    "version": 3
   },
   "file_extension": ".py",
   "mimetype": "text/x-python",
   "name": "python",
   "nbconvert_exporter": "python",
   "pygments_lexer": "ipython3",
   "version": "3.9.13"
  }
 },
 "nbformat": 4,
 "nbformat_minor": 4
}
