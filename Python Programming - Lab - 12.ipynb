{
 "cells": [
  {
   "cell_type": "markdown",
   "metadata": {},
   "source": [
    "<a href='https://www.darshan.ac.in/'> <img src='https://www.darshan.ac.in/Content/media/DU_Logo.svg' width=\"250\" height=\"300\"/></a>\n",
    "<pre>\n",
    "<center><b><h1>Python Programming - 2101CS405</b></center>\n",
    "<center><b><h1>Lab - 12</b></center>    \n",
    "<pre>"
   ]
  },
  {
   "cell_type": "markdown",
   "metadata": {},
   "source": [
    "# OOP"
   ]
  },
  {
   "cell_type": "markdown",
   "metadata": {},
   "source": [
    "### 01) Write a Program to create a class by name Students, and initialize attributes like name, age, and grade while creating an object."
   ]
  },
  {
   "cell_type": "code",
   "execution_count": 20,
   "metadata": {},
   "outputs": [
    {
     "name": "stdout",
     "output_type": "stream",
     "text": [
      "Happy\n",
      "20\n",
      "10\n"
     ]
    }
   ],
   "source": [
    "class Student:\n",
    "    Name = \"Happy\"\n",
    "    Age  = 20\n",
    "    Grad = 10\n",
    "\n",
    "obj = (Student)\n",
    "print(obj.Name)\n",
    "print(obj.Age)\n",
    "print(obj.Grad)"
   ]
  },
  {
   "cell_type": "markdown",
   "metadata": {},
   "source": [
    "### 02) Create a class named Bank_Account with Account_No, User_Name, Email,Account_Type and Account_Balance data members. Also create a method GetAccountDetails() and DisplayAccountDetails(). Create main method to demonstrate the Bank_Account class."
   ]
  },
  {
   "cell_type": "code",
   "execution_count": 29,
   "metadata": {},
   "outputs": [
    {
     "name": "stdout",
     "output_type": "stream",
     "text": [
      "Enter Account_No: 34535\n",
      "Enter User_Name: fbfb\n",
      "Enter Email: fbb\n",
      "Enter Account_Type: brb\n",
      "Enter Account_Balance: 5151\n",
      "Net Available details= 34535 fbfb fbb brb 5151\n"
     ]
    }
   ],
   "source": [
    "class Bank_Account:\n",
    "    Account_No=0\n",
    "    User_Name=\"\"\n",
    "    Email=\"\"\n",
    "    Account_Type=\"\"\n",
    "    Account_Balance=0.0\n",
    "    def main(self):\n",
    "        s.GetAccountDetails()\n",
    "        s.DisplayAccountDetails()\n",
    "    def GetAccountDetails(self):\n",
    "        self.Account_No= int(input(\"Enter Account_No: \"))\n",
    "        self.User_Name= (input(\"Enter User_Name: \"))\n",
    "        self.Email = (input(\"Enter Email: \"))\n",
    "        self.Account_Type =(input(\"Enter Account_Type: \"))\n",
    "        self.Account_Balance =int(input(\"Enter Account_Balance: \"))\n",
    "\n",
    "    def DisplayAccountDetails(self):\n",
    "        print(\"Net Available details=\", self.Account_No, self.User_Name,self.Email,self.Account_Type, self.Account_Balance)\n",
    "\n",
    "s = Bank_Account()\n",
    "s.main()"
   ]
  },
  {
   "cell_type": "markdown",
   "metadata": {},
   "source": [
    "### 03) WAP to create Circle class with area and perimeter function to find area and perimeter of circle."
   ]
  },
  {
   "cell_type": "code",
   "execution_count": 23,
   "metadata": {},
   "outputs": [
    {
     "name": "stdout",
     "output_type": "stream",
     "text": [
      "314.0\n",
      "62.800000000000004\n"
     ]
    }
   ],
   "source": [
    "class Circle():\n",
    "    def __init__(self, r):\n",
    "        self.radius = r\n",
    "\n",
    "    def area(self):\n",
    "        return self.radius**2*3.14\n",
    "\n",
    "    def perimeter(self):\n",
    "        return 2*self.radius*3.14\n",
    "\n",
    "NewCircle = Circle(10)\n",
    "print(NewCircle.area())\n",
    "print(NewCircle.perimeter())\n"
   ]
  },
  {
   "cell_type": "markdown",
   "metadata": {},
   "source": [
    "### 04) Create a class for employees that includes attributes such as name, age, salary, and methods to update and display employee information."
   ]
  },
  {
   "cell_type": "code",
   "execution_count": 24,
   "metadata": {},
   "outputs": [
    {
     "name": "stdout",
     "output_type": "stream",
     "text": [
      "Name\t: Lalit Bhai\n",
      "Age 30\n",
      "Salary\t: 50000\n"
     ]
    }
   ],
   "source": [
    "\n",
    "class Employee:\n",
    "    name=\"\"\n",
    "    age=\"\"\n",
    "    salary=0\n",
    "    def setData(self,name,age,salary):\n",
    "\n",
    "        self.name = name\n",
    "        self.age = age\n",
    "        self.salary = salary\n",
    "\n",
    "    def showData(self):\n",
    "\n",
    "        print(\"Name\\t:\", self.name)\n",
    "        print(\"Age\",self.age)\n",
    "        print(\"Salary\\t:\", self.salary)\n",
    "\n",
    "def main():\n",
    "\n",
    "    emp=Employee()\n",
    "    emp.setData(\"Lalit Bhai\",30,50000)\n",
    "    emp.showData()\n",
    "\n",
    "if __name__==\"__main__\":\n",
    "    main()\n"
   ]
  },
  {
   "cell_type": "markdown",
   "metadata": {},
   "source": [
    "### 05) Create a bank account class with methods to deposit, withdraw, and check balance."
   ]
  },
  {
   "cell_type": "code",
   "execution_count": 3,
   "metadata": {},
   "outputs": [
    {
     "name": "stdout",
     "output_type": "stream",
     "text": [
      "jamakaravo ane upado ne moj karo \n",
      "Amount Deposited:  1000.0\n",
      "upadela rupiya:  100.0\n",
      "chela rupiya= 900.0\n"
     ]
    }
   ],
   "source": [
    "class Bank_Account:\n",
    "    def __init__(self):\n",
    "        self.rupiya=0\n",
    "        print(\"jamakaravo ane upado ne moj karo \")\n",
    "\n",
    "    def jama_karavo(self):\n",
    "        amount=float(input(\"jetla rupiya nakhva che etla umero: \"))\n",
    "        self.rupiya += amount\n",
    "        print(\"Amount Deposited: \",amount)\n",
    "    def upado(self):\n",
    "        amount = float(input(\"jetla rupiya upadva che etla umero: \"))\n",
    "        if self.rupiya>=amount:\n",
    "            self.rupiya-=amount\n",
    "            print(\"upadela rupiya: \",amount)\n",
    "        else:\n",
    "            print(\"etla rupiya jj nathi khata ma to km upadso\")\n",
    "    def display(self):\n",
    "        print(\"chela rupiya=\",self.rupiya)\n",
    "\n",
    "s = Bank_Account()\n",
    "\n",
    "\n",
    "s.jama_karavo()\n",
    "s.upado()\n",
    "s.display()"
   ]
  },
  {
   "cell_type": "markdown",
   "metadata": {},
   "source": [
    "### 06) Create a class for managing inventory that includes attributes such as item name, price, quantity, and methods to add, remove, and update items."
   ]
  },
  {
   "cell_type": "code",
   "execution_count": null,
   "metadata": {},
   "outputs": [],
   "source": []
  },
  {
   "cell_type": "markdown",
   "metadata": {},
   "source": [
    "### 09) Create a Class with instance attributes"
   ]
  },
  {
   "cell_type": "code",
   "execution_count": 5,
   "metadata": {},
   "outputs": [
    {
     "name": "stdout",
     "output_type": "stream",
     "text": [
      "Jane JavaScript\n"
     ]
    }
   ],
   "source": [
    "class Student:\n",
    "    name = \"Jane\"\n",
    "    course = \"JavaScript\"\n",
    "\n",
    "Student1 = Student()\n",
    "\n",
    "print(Student1.name,Student1.course)"
   ]
  },
  {
   "cell_type": "markdown",
   "metadata": {},
   "source": [
    "### 07)\n",
    "Create one class student_kit <br>\n",
    "Within the student_kit class create one class attribute principal name ( Mr ABC ) <br>\n",
    "Create one attendance method and take input as number of days. <br>\n",
    "While creating student take input their name . <br>\n",
    "Create one certificate for each student by taking input of number of days present in class. <br>"
   ]
  },
  {
   "cell_type": "code",
   "execution_count": 12,
   "metadata": {},
   "outputs": [],
   "source": [
    "class student_kit:\n",
    "    def __init__(self):\n",
    "        principal_name=\"mr abc\"\n",
    "\n",
    "    def attandance(self):\n",
    "        days=float(input(\"enter attandance: \"))\n",
    "\n",
    "        print(\"total attandance: \",days)"
   ]
  },
  {
   "cell_type": "markdown",
   "metadata": {},
   "source": [
    "### 08) Define Time class with hour and minute as data member. Also define addition method to add two time objects."
   ]
  },
  {
   "cell_type": "code",
   "execution_count": null,
   "metadata": {},
   "outputs": [],
   "source": []
  },
  {
   "cell_type": "markdown",
   "metadata": {},
   "source": [
    "### 09) WAP to demonstrate inheritance in python."
   ]
  },
  {
   "cell_type": "code",
   "execution_count": 3,
   "metadata": {},
   "outputs": [
    {
     "name": "stdout",
     "output_type": "stream",
     "text": [
      "This function is in parent class.\n",
      "This function is in child class.\n"
     ]
    }
   ],
   "source": [
    "#single\n",
    "class Parent:\n",
    "    def func1(self):\n",
    "        print(\"This function is in parent class.\")\n",
    "\n",
    "class Child(Parent):\n",
    "    def func2(self):\n",
    "        print(\"This function is in child class.\")\n",
    "\n",
    "object = Child()\n",
    "object.func1()\n",
    "object.func2()\n"
   ]
  },
  {
   "cell_type": "code",
   "execution_count": 4,
   "metadata": {},
   "outputs": [
    {
     "name": "stdout",
     "output_type": "stream",
     "text": [
      "Father : RAM\n",
      "Mother : SITA\n"
     ]
    }
   ],
   "source": [
    "\n",
    "# multiple inheritance\n",
    "\n",
    "\n",
    "class Mother:\n",
    "    mothername = \"\"\n",
    "\n",
    "    def mother(self):\n",
    "        print(self.mothername)\n",
    "\n",
    "\n",
    "class Father:\n",
    "    fathername = \"\"\n",
    "\n",
    "    def father(self):\n",
    "        print(self.fathername)\n",
    "\n",
    "\n",
    "class Son(Mother, Father):\n",
    "    def parents(self):\n",
    "        print(\"Father :\", self.fathername)\n",
    "        print(\"Mother :\", self.mothername)\n",
    "\n",
    "\n",
    "s1 = Son()\n",
    "s1.fathername = \"RAM\"\n",
    "s1.mothername = \"SITA\"\n",
    "s1.parents()\n"
   ]
  },
  {
   "cell_type": "code",
   "execution_count": 6,
   "metadata": {},
   "outputs": [
    {
     "name": "stdout",
     "output_type": "stream",
     "text": [
      "This is parent class.\n",
      "This is child 1.\n",
      "This is parent class.\n",
      "This is child 2.\n"
     ]
    }
   ],
   "source": [
    "# Hierarchical\n",
    "\n",
    "class Parent:\n",
    "    def func1(self):\n",
    "        print(\"This is parent class.\")\n",
    "\n",
    "\n",
    "class Child1(Parent):\n",
    "    def func2(self):\n",
    "        print(\"This is child 1.\")\n",
    "\n",
    "\n",
    "\n",
    "\n",
    "class Child2(Parent):\n",
    "    def func3(self):\n",
    "        print(\"This is child 2.\")\n",
    "\n",
    "\n",
    "\n",
    "object1 = Child1()\n",
    "object2 = Child2()\n",
    "object1.func1()\n",
    "object1.func2()\n",
    "object2.func1()\n",
    "object2.func3()\n"
   ]
  },
  {
   "cell_type": "code",
   "execution_count": null,
   "metadata": {},
   "outputs": [],
   "source": [
    "# hybrid\n",
    "\n",
    "class School:\n",
    "    def func1(self):\n",
    "        print(\"This function is in school.\")\n",
    "\n",
    "class Student1(School):\n",
    "    def func2(self):\n",
    "        print(\"This function is in student 1. \")\n",
    "\n",
    "class Student2(School):\n",
    "    def func3(self):\n",
    "        print(\"This function is in student 2.\")\n",
    "\n",
    "class Student3(Student1, School):\n",
    "    def func4(self):\n",
    "        print(\"This function is in student 3.\")\n",
    "\n",
    "object = Student3()\n",
    "object.func1()\n",
    "object.func2()"
   ]
  },
  {
   "cell_type": "markdown",
   "metadata": {},
   "source": [
    "### 10) Create a child class Bus that will inherit all of the variables and methods of the Vehicle class\n",
    "class Vehicle:\n",
    "\n",
    "    def __init__(self, name, max_speed, mileage):\n",
    "        self.name = name\n",
    "        self.max_speed = max_speed\n",
    "        self.mileage = mileage\n",
    "        \n",
    "Create a Bus object that will inherit all of the variables and methods of the parent Vehicle class and display it.        "
   ]
  },
  {
   "cell_type": "code",
   "execution_count": null,
   "metadata": {},
   "outputs": [],
   "source": []
  },
  {
   "cell_type": "markdown",
   "metadata": {},
   "source": [
    "### 11)  Create a class hierarchy for different types of animals, with a parent Animal class and child classes for specific animals like Cat, Dog, and Bird."
   ]
  },
  {
   "cell_type": "code",
   "execution_count": null,
   "metadata": {},
   "outputs": [],
   "source": []
  },
  {
   "cell_type": "markdown",
   "metadata": {},
   "source": [
    "### 12) Create a class hierarchy for different types of vehicles, with a parent Vehicle class and child classes for specific vehicles like Car, Truck, and Motorcycle."
   ]
  },
  {
   "cell_type": "code",
   "execution_count": null,
   "metadata": {},
   "outputs": [],
   "source": []
  },
  {
   "cell_type": "markdown",
   "metadata": {},
   "source": [
    "### 13)  Create a class hierarchy for different types of bank accounts, with a parent Account class and child classes for specific account types like Checking, Savings, and Credit."
   ]
  },
  {
   "cell_type": "code",
   "execution_count": null,
   "metadata": {},
   "outputs": [],
   "source": []
  },
  {
   "cell_type": "markdown",
   "metadata": {},
   "source": [
    "### 14) Create a Shape class with a draw method that is not implemented. Create three child classes Rectangle, Circle, and Triangle that implement the draw method with their respective drawing behaviors. Create a list of Shape objects that includes one instance of each child class, and then iterate through the list and call the draw method on each object."
   ]
  },
  {
   "cell_type": "code",
   "execution_count": null,
   "metadata": {},
   "outputs": [],
   "source": []
  },
  {
   "cell_type": "markdown",
   "metadata": {},
   "source": [
    "### 15) Create a Person class with a constructor that takes two arguments name and age. Create a child class Employee that inherits from Person and adds a new attribute salary. Override the __init__ method in Employee to call the parent class's __init__ method using the super keyword, and then initialize the salary attribute."
   ]
  },
  {
   "cell_type": "code",
   "execution_count": null,
   "metadata": {},
   "outputs": [],
   "source": []
  }
 ],
 "metadata": {
  "kernelspec": {
   "display_name": "Python 3 (ipykernel)",
   "language": "python",
   "name": "python3"
  },
  "language_info": {
   "codemirror_mode": {
    "name": "ipython",
    "version": 3
   },
   "file_extension": ".py",
   "mimetype": "text/x-python",
   "name": "python",
   "nbconvert_exporter": "python",
   "pygments_lexer": "ipython3",
   "version": "3.11.9"
  }
 },
 "nbformat": 4,
 "nbformat_minor": 4
}
